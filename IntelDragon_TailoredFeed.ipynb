{
 "cells": [
  {
   "cell_type": "markdown",
   "id": "8a265325",
   "metadata": {},
   "source": [
    "## IntelDragon Tailored News Feed"
   ]
  },
  {
   "cell_type": "markdown",
   "id": "a433ce4a",
   "metadata": {},
   "source": [
    "IntelDragon Tailored News Feed is a scalable artificial intelligence platform that identifies relevant trending cyber threats to an organization, industry, company, or product based on a written description of the topic of interest."
   ]
  },
  {
   "cell_type": "markdown",
   "id": "92f598a9",
   "metadata": {},
   "source": [
    "### Add User Input"
   ]
  },
  {
   "cell_type": "code",
   "execution_count": null,
   "id": "8ba683dd",
   "metadata": {},
   "outputs": [],
   "source": [
    "# Example search query\n",
    "\n",
    "search_query = \"cyber attacks\""
   ]
  },
  {
   "cell_type": "code",
   "execution_count": null,
   "id": "3490324c",
   "metadata": {},
   "outputs": [],
   "source": [
    "# Example input text\n",
    "\n",
    "input_text = \"\"\"A submarine communications cable is a cable laid on the sea bed between land-based stations to carry telecommunication signals across stretches of ocean and sea. The first submarine communications cables laid beginning in the 1850s carried telegraphy traffic, establishing the first instant telecommunications links between continents, such as the first transatlantic telegraph cable which became operational on 16 August 1858. Subsequent generations of cables carried telephone traffic, then data communications traffic. Modern cables use optical fibre technology to carry digital data, which includes telephone, Internet and private data traffic.\n",
    "\n",
    "Modern cables are typically about 25 mm (1 in) in diameter and weigh around 1.4 tonnes per kilometre (2.5 short tons per mile; 2.2 long tons per mile) for the deep-sea sections which comprise the majority of the run, although larger and heavier cables are used for shallow-water sections near shore.[1][2] Submarine cables first connected all the world's continents (except Antarctica) when Java was connected to Darwin, Northern Territory, Australia, in 1871 in anticipation of the completion of the Australian Overland Telegraph Line in 1872 connecting to Adelaide, South Australia, and thence to the rest of Australia.\"\"\""
   ]
  },
  {
   "cell_type": "markdown",
   "id": "97f89e01",
   "metadata": {},
   "source": [
    "### Load Modules"
   ]
  },
  {
   "cell_type": "code",
   "execution_count": null,
   "id": "4c388d99",
   "metadata": {},
   "outputs": [],
   "source": [
    "import subprocess\n",
    "import sys\n",
    "import newspaper\n",
    "import json\n",
    "from pygooglenews import GoogleNews\n",
    "import pandas as pd\n",
    "import numpy as np\n",
    "from scipy import spatial\n",
    "import datetime\n",
    "from datetime import datetime, timedelta\n",
    "import gensim\n",
    "from gensim.models import Word2Vec\n",
    "\n",
    "import nltk\n",
    "from nltk.tokenize import RegexpTokenizer\n",
    "from nltk.corpus import stopwords\n",
    "\n",
    "import warnings\n",
    "warnings.filterwarnings(action = 'ignore')"
   ]
  },
  {
   "cell_type": "markdown",
   "id": "a02a6674",
   "metadata": {},
   "source": [
    "### Query Google News"
   ]
  },
  {
   "cell_type": "code",
   "execution_count": null,
   "id": "1bce4e67",
   "metadata": {},
   "outputs": [],
   "source": [
    "date.today() - timedelta(days=1)\n",
    "\n",
    "gn = GoogleNews()\n",
    "s = gn.search(search_query, from_=(date.today() - timedelta(days=1)).strftime('%Y-%m-%d'), to_=(date.today()).strftime('%Y-%m-%d'))"
   ]
  },
  {
   "cell_type": "markdown",
   "id": "f2244a7b",
   "metadata": {},
   "source": [
    "### Extract News Articles"
   ]
  },
  {
   "cell_type": "code",
   "execution_count": null,
   "id": "899fe393",
   "metadata": {},
   "outputs": [],
   "source": [
    "article_list = []\n",
    "\n",
    "for i in range(0,len(s[\"entries\"])):\n",
    "  try:\n",
    "    url = s[\"entries\"][i][\"link\"]\n",
    "    article = newspaper.Article(url=url, language='en')\n",
    "    article.download()\n",
    "    article.parse()\n",
    "    article ={\n",
    "      \"title\": str(article.title),\n",
    "      \"text\": str(article.text),\n",
    "      \"authors\": article.authors,\n",
    "      \"published_date\": str(article.publish_date),\n",
    "      \"top_image\": str(article.top_image),\n",
    "      \"videos\": article.movies,\n",
    "      \"keywords\": article.keywords,\n",
    "      \"summary\": str(article.summary),\n",
    "      \"url\": str(url)\n",
    "    }\n",
    "    article_list.append(article)\n",
    "  except:\n",
    "    pass"
   ]
  },
  {
   "cell_type": "markdown",
   "id": "4d280dcc",
   "metadata": {},
   "source": [
    "### Get Natural Language Processing Model"
   ]
  },
  {
   "cell_type": "code",
   "execution_count": null,
   "id": "c74ce986",
   "metadata": {},
   "outputs": [],
   "source": [
    "title = []\n",
    "data = []\n",
    "  \n",
    "for a in article_list:\n",
    "    for sentence in a[\"text\"].split(\"\\n\"):\n",
    "        sentence_list = []\n",
    "        for word in sentence.split(\" \"):\n",
    "            sentence_list.append(word)\n",
    "        title.append(a[\"title\"])\n",
    "        data.append(sentence_list)\n",
    "\n",
    "model = gensim.models.Word2Vec(data, min_count = 1, vector_size = 100, window = 5, sg = 1)"
   ]
  },
  {
   "cell_type": "markdown",
   "id": "f0c8f65d",
   "metadata": {},
   "source": [
    "### Get News Article Vectors"
   ]
  },
  {
   "cell_type": "code",
   "execution_count": null,
   "id": "9e4ccb8c",
   "metadata": {},
   "outputs": [],
   "source": [
    "article_titles = []\n",
    "article_vectors = []\n",
    "article_url = []\n",
    "for article in article_list:\n",
    "    if \"Types of Cyber Attacks:\" in article[\"title\"]:\n",
    "        pass\n",
    "    else:\n",
    "        sentences = article[\"text\"].split(\"\\n\")\n",
    "        for line in sentences:\n",
    "            line_vector = []\n",
    "            for word in line.split(\" \"):\n",
    "                try:\n",
    "                    line_vector.append(model.wv.get_vector(word))\n",
    "                except:\n",
    "                    pass\n",
    "            if len(line_vector)>0:\n",
    "                article_vectors.append(np.mean(line_vector, axis=0))\n",
    "                article_titles.append(article[\"title\"])\n",
    "                article_url.append(article[\"url\"])\n",
    "        \n",
    "data = np.array(article_vectors) # sentence vectors\n",
    "labels = np.array(article_titles) # article titles\n",
    "urls = np.array(article_url)"
   ]
  },
  {
   "cell_type": "markdown",
   "id": "ef36027d",
   "metadata": {},
   "source": [
    "### Get User Input Text Vector"
   ]
  },
  {
   "cell_type": "code",
   "execution_count": null,
   "id": "9f8527f7",
   "metadata": {},
   "outputs": [],
   "source": [
    "sentence_vector = []\n",
    "line_vector = []\n",
    "for sentence in input_text.replace(\"\\n\",\"\").split(\".\"):\n",
    "    line_vector = []\n",
    "    for word in sentence:\n",
    "        try:\n",
    "            line_vector.append(model.wv.get_vector(word))\n",
    "        except:\n",
    "            pass\n",
    "        if len(line_vector)>0:\n",
    "            sentence_vector = np.mean(line_vector, axis=0)"
   ]
  },
  {
   "cell_type": "markdown",
   "id": "2635fc77",
   "metadata": {},
   "source": [
    "### Identify Relevant Results"
   ]
  },
  {
   "cell_type": "code",
   "execution_count": null,
   "id": "4808347d",
   "metadata": {},
   "outputs": [],
   "source": [
    "tree = spatial.KDTree(data)\n",
    "\n",
    "print(labels[tree.query(sentence_vector, k=5)[1][0]])\n",
    "print(urls[tree.query(sentence_vector, k=5)[1][0]]+\"\\n\")\n",
    "\n",
    "print(labels[tree.query(sentence_vector, k=5)[1][1]])\n",
    "print(urls[tree.query(sentence_vector, k=5)[1][1]]+\"\\n\")\n",
    "\n",
    "print(labels[tree.query(sentence_vector, k=5)[1][2]])\n",
    "print(urls[tree.query(sentence_vector, k=5)[1][2]]+\"\\n\")\n",
    "\n",
    "print(labels[tree.query(sentence_vector, k=5)[1][3]])\n",
    "print(urls[tree.query(sentence_vector, k=5)[1][3]]+\"\\n\")\n",
    "\n",
    "print(labels[tree.query(sentence_vector, k=5)[1][4]])\n",
    "print(urls[tree.query(sentence_vector, k=5)[1][4]]+\"\\n\")"
   ]
  }
 ],
 "metadata": {
  "kernelspec": {
   "display_name": "Python 3",
   "language": "python",
   "name": "python3"
  },
  "language_info": {
   "codemirror_mode": {
    "name": "ipython",
    "version": 3
   },
   "file_extension": ".py",
   "mimetype": "text/x-python",
   "name": "python",
   "nbconvert_exporter": "python",
   "pygments_lexer": "ipython3",
   "version": "3.8.8"
  }
 },
 "nbformat": 4,
 "nbformat_minor": 5
}
