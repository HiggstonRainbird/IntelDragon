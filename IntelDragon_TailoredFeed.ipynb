{
 "cells": [
  {
   "cell_type": "markdown",
   "id": "a7f7ed15",
   "metadata": {},
   "source": [
    "## IntelDragon Tailored News Feed"
   ]
  },
  {
   "cell_type": "markdown",
   "id": "022753a5",
   "metadata": {},
   "source": [
    "IntelDragon Tailored News Feed is a scalable artificial intelligence platform that identifies relevant trending cyber threats to an organization, industry, company, or product based on a written description of the topic of interest."
   ]
  },
  {
   "cell_type": "markdown",
   "id": "92247477",
   "metadata": {},
   "source": [
    "### Add User Input"
   ]
  },
  {
   "cell_type": "code",
   "execution_count": 492,
   "id": "bd4d4523",
   "metadata": {},
   "outputs": [],
   "source": [
    "search_query = \"cyber attacks\""
   ]
  },
  {
   "cell_type": "code",
   "execution_count": 464,
   "id": "59bc72fa",
   "metadata": {},
   "outputs": [],
   "source": [
    "input_text = \"\"\"A submarine communications cable is a cable laid on the sea bed between land-based stations to carry telecommunication signals across stretches of ocean and sea. The first submarine communications cables laid beginning in the 1850s carried telegraphy traffic, establishing the first instant telecommunications links between continents, such as the first transatlantic telegraph cable which became operational on 16 August 1858. Subsequent generations of cables carried telephone traffic, then data communications traffic. Modern cables use optical fibre technology to carry digital data, which includes telephone, Internet and private data traffic.\n",
    "\n",
    "Modern cables are typically about 25 mm (1 in) in diameter and weigh around 1.4 tonnes per kilometre (2.5 short tons per mile; 2.2 long tons per mile) for the deep-sea sections which comprise the majority of the run, although larger and heavier cables are used for shallow-water sections near shore.[1][2] Submarine cables first connected all the world's continents (except Antarctica) when Java was connected to Darwin, Northern Territory, Australia, in 1871 in anticipation of the completion of the Australian Overland Telegraph Line in 1872 connecting to Adelaide, South Australia, and thence to the rest of Australia.\"\"\""
   ]
  },
  {
   "cell_type": "markdown",
   "id": "e52c438a",
   "metadata": {},
   "source": [
    "### Load Modules"
   ]
  },
  {
   "cell_type": "code",
   "execution_count": 482,
   "id": "96ff1d6c",
   "metadata": {},
   "outputs": [],
   "source": [
    "import subprocess\n",
    "import sys\n",
    "import newspaper\n",
    "import json\n",
    "from pygooglenews import GoogleNews\n",
    "import pandas as pd\n",
    "import numpy as np\n",
    "from scipy import spatial\n",
    "import datetime\n",
    "from datetime import datetime, timedelta\n",
    "import gensim\n",
    "from gensim.models import Word2Vec\n",
    "\n",
    "import nltk\n",
    "from nltk.tokenize import RegexpTokenizer\n",
    "from nltk.corpus import stopwords\n",
    "\n",
    "import warnings\n",
    "warnings.filterwarnings(action = 'ignore')"
   ]
  },
  {
   "cell_type": "markdown",
   "id": "2774fd87",
   "metadata": {},
   "source": [
    "### Query Google News"
   ]
  },
  {
   "cell_type": "code",
   "execution_count": 485,
   "id": "f833d819",
   "metadata": {},
   "outputs": [],
   "source": [
    "date.today() - timedelta(days=1)\n",
    "\n",
    "gn = GoogleNews()\n",
    "s = gn.search(search_query, from_=(date.today() - timedelta(days=1)).strftime('%Y-%m-%d'), to_=(date.today()).strftime('%Y-%m-%d'))"
   ]
  },
  {
   "cell_type": "markdown",
   "id": "e953d1ee",
   "metadata": {},
   "source": [
    "### Extract News Articles"
   ]
  },
  {
   "cell_type": "code",
   "execution_count": 486,
   "id": "ebb59dd1",
   "metadata": {},
   "outputs": [],
   "source": [
    "article_list = []\n",
    "\n",
    "for i in range(0,len(s[\"entries\"])):\n",
    "  try:\n",
    "    url = s[\"entries\"][i][\"link\"]\n",
    "    article = newspaper.Article(url=url, language='en')\n",
    "    article.download()\n",
    "    article.parse()\n",
    "    article ={\n",
    "      \"title\": str(article.title),\n",
    "      \"text\": str(article.text),\n",
    "      \"authors\": article.authors,\n",
    "      \"published_date\": str(article.publish_date),\n",
    "      \"top_image\": str(article.top_image),\n",
    "      \"videos\": article.movies,\n",
    "      \"keywords\": article.keywords,\n",
    "      \"summary\": str(article.summary),\n",
    "      \"url\": str(url)\n",
    "    }\n",
    "    article_list.append(article)\n",
    "  except:\n",
    "    pass"
   ]
  },
  {
   "cell_type": "markdown",
   "id": "4dcc4ea7",
   "metadata": {},
   "source": [
    "### Get Natural Language Processing Model"
   ]
  },
  {
   "cell_type": "code",
   "execution_count": 487,
   "id": "3a89834c",
   "metadata": {},
   "outputs": [],
   "source": [
    "title = []\n",
    "data = []\n",
    "  \n",
    "for a in article_list:\n",
    "    for sentence in a[\"text\"].split(\"\\n\"):\n",
    "        sentence_list = []\n",
    "        for word in sentence.split(\" \"):\n",
    "            sentence_list.append(word)\n",
    "        title.append(a[\"title\"])\n",
    "        data.append(sentence_list)\n",
    "\n",
    "model = gensim.models.Word2Vec(data, min_count = 1, vector_size = 100, window = 5, sg = 1)"
   ]
  },
  {
   "cell_type": "markdown",
   "id": "e0d7fdc0",
   "metadata": {},
   "source": [
    "### Get News Article Vectors"
   ]
  },
  {
   "cell_type": "code",
   "execution_count": 488,
   "id": "6655b363",
   "metadata": {},
   "outputs": [],
   "source": [
    "article_titles = []\n",
    "article_vectors = []\n",
    "article_url = []\n",
    "for article in article_list:\n",
    "    if \"Types of Cyber Attacks:\" in article[\"title\"]:\n",
    "        pass\n",
    "    else:\n",
    "        sentences = article[\"text\"].split(\"\\n\")\n",
    "        for line in sentences:\n",
    "            line_vector = []\n",
    "            for word in line.split(\" \"):\n",
    "                try:\n",
    "                    line_vector.append(model.wv.get_vector(word))\n",
    "                except:\n",
    "                    pass\n",
    "            if len(line_vector)>0:\n",
    "                article_vectors.append(np.mean(line_vector, axis=0))\n",
    "                article_titles.append(article[\"title\"])\n",
    "                article_url.append(article[\"url\"])\n",
    "        \n",
    "data = np.array(article_vectors) # sentence vectors\n",
    "labels = np.array(article_titles) # article titles\n",
    "urls = np.array(article_url)"
   ]
  },
  {
   "cell_type": "markdown",
   "id": "9fe850b0",
   "metadata": {},
   "source": [
    "### Get User Input Text Vector"
   ]
  },
  {
   "cell_type": "code",
   "execution_count": 489,
   "id": "b4bccdbb",
   "metadata": {},
   "outputs": [],
   "source": [
    "sentence_vector = []\n",
    "line_vector = []\n",
    "for sentence in input_text.replace(\"\\n\",\"\").split(\".\"):\n",
    "    line_vector = []\n",
    "    for word in sentence:\n",
    "        try:\n",
    "            line_vector.append(model.wv.get_vector(word))\n",
    "        except:\n",
    "            pass\n",
    "        if len(line_vector)>0:\n",
    "            sentence_vector = np.mean(line_vector, axis=0)"
   ]
  },
  {
   "cell_type": "markdown",
   "id": "02fa3c16",
   "metadata": {},
   "source": [
    "### Identify Relevant Results"
   ]
  },
  {
   "cell_type": "code",
   "execution_count": 491,
   "id": "facccdb7",
   "metadata": {},
   "outputs": [
    {
     "name": "stdout",
     "output_type": "stream",
     "text": [
      "Suspected Russian hackers target Nigerian websites, hit Bet9ja\n",
      "https://punchng.com/suspected-russian-hackers-target-nigerian-websites-hit-bet9ja/\n",
      "\n",
      "FDA seeks input on new medical device cybersecurity guidance\n",
      "https://www.modernhealthcare.com/cybersecurity/fda-seeks-input-new-medical-device-cybersecurity-guidance\n",
      "\n",
      "Cyber phases of a hybrid war. Catphishing in Israel. China snoops India's grid. Princes and dissidents.\n",
      "https://thecyberwire.com/newsletters/daily-briefing/11/67\n",
      "\n",
      "China attempted hacking Power Grid systems in Ladakh thrice but failed Union minister Singh\n",
      "https://www.theweek.in/wire-updates/national/2022/04/07/del101-mea-power-china-cyber-attack.html\n",
      "\n",
      "Government is learning how to work with private sector on cyber threats\n",
      "https://www.washingtonpost.com/politics/2022/04/07/government-is-learning-how-work-with-private-sector-cyber-threats/\n",
      "\n"
     ]
    }
   ],
   "source": [
    "tree = spatial.KDTree(data)\n",
    "\n",
    "print(labels[tree.query(sentence_vector, k=5)[1][0]])\n",
    "print(urls[tree.query(sentence_vector, k=5)[1][0]]+\"\\n\")\n",
    "\n",
    "print(labels[tree.query(sentence_vector, k=5)[1][1]])\n",
    "print(urls[tree.query(sentence_vector, k=5)[1][1]]+\"\\n\")\n",
    "\n",
    "print(labels[tree.query(sentence_vector, k=5)[1][2]])\n",
    "print(urls[tree.query(sentence_vector, k=5)[1][2]]+\"\\n\")\n",
    "\n",
    "print(labels[tree.query(sentence_vector, k=5)[1][3]])\n",
    "print(urls[tree.query(sentence_vector, k=5)[1][3]]+\"\\n\")\n",
    "\n",
    "print(labels[tree.query(sentence_vector, k=5)[1][4]])\n",
    "print(urls[tree.query(sentence_vector, k=5)[1][4]]+\"\\n\")"
   ]
  }
 ],
 "metadata": {
  "kernelspec": {
   "display_name": "Python 3",
   "language": "python",
   "name": "python3"
  },
  "language_info": {
   "codemirror_mode": {
    "name": "ipython",
    "version": 3
   },
   "file_extension": ".py",
   "mimetype": "text/x-python",
   "name": "python",
   "nbconvert_exporter": "python",
   "pygments_lexer": "ipython3",
   "version": "3.8.8"
  }
 },
 "nbformat": 4,
 "nbformat_minor": 5
}
